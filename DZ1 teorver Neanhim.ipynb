{
 "cells": [
  {
   "cell_type": "code",
   "execution_count": 9,
   "metadata": {},
   "outputs": [],
   "source": [
    "from math import factorial\n",
    "\n",
    "def combinations(n, k):\n",
    "    return int(factorial(n) / (factorial(k) * factorial(n - k)))\n"
   ]
  },
  {
   "cell_type": "markdown",
   "metadata": {},
   "source": [
    "### 1. Из колоды в 52 карты извлекаются случайным образом 4 карты. a) Найти вероятность того, что все карты – крести. б) Найти вероятность, что среди 4-х карт окажется хотя бы один туз."
   ]
  },
  {
   "cell_type": "markdown",
   "metadata": {},
   "source": [
    "Вытащить 4 карты из 13 крестей можно $$C^4_{13}$$ способами. Всего способов вытащить 4 карты из 52 $$C^4_{52}$$ Отношение этих величин даст искомую вероятность.\n",
    "$$ w = \\frac{C^4_{13}}{C^4_{52}} = \\frac{13!}{4! \\cdot (13-4)!} \\cdot \\frac{4! \\cdot (52-4)!}{52!}$$"
   ]
  },
  {
   "cell_type": "markdown",
   "metadata": {},
   "source": [
    "$$ w = \\frac{13! \\cdot 48!}{9! \\cdot 52!} $$"
   ]
  },
  {
   "cell_type": "markdown",
   "metadata": {},
   "source": [
    "$$ w = \\frac{10 \\cdot 11 \\cdot 12 \\cdot 13}{49 \\cdot 50 \\cdot 51 \\cdot 52}$$"
   ]
  },
  {
   "cell_type": "code",
   "execution_count": 8,
   "metadata": {},
   "outputs": [
    {
     "name": "stdout",
     "output_type": "stream",
     "text": [
      "Ответ: w = 0.0026410564225690276\n"
     ]
    }
   ],
   "source": [
    "print(f\"Ответ: w = {(10*11*12*13)/(49*50*51*52)}\")"
   ]
  },
  {
   "cell_type": "markdown",
   "metadata": {},
   "source": [
    "Вероятность достать хотя бы один туз + вероятность не достать туза = 1.\n",
    "Вероятность не достать туза:\n",
    "$$ w_1 = \\frac{C^4_{48}}{C^4_{52}} $$"
   ]
  },
  {
   "cell_type": "markdown",
   "metadata": {},
   "source": [
    "Вероятность достать тузы:\n",
    "    $$ w = 1 - w_1 = 1 - \\frac{C^4_{48}}{C^4_{52}} $$"
   ]
  },
  {
   "cell_type": "code",
   "execution_count": 11,
   "metadata": {},
   "outputs": [
    {
     "name": "stdout",
     "output_type": "stream",
     "text": [
      "Ответ: w = 0.2812632745405854\n"
     ]
    }
   ],
   "source": [
    "print(f\"Ответ: w = {1 - combinations(48, 4) / combinations(52, 4)}\")"
   ]
  },
  {
   "cell_type": "markdown",
   "metadata": {},
   "source": [
    "### 2. На входной двери подъезда установлен кодовый замок, содержащий десять кнопок с цифрами от 0 до 9. Код содержит три цифры, которые нужно нажать одновременно. Какова вероятность того, что человек, не знающий код, откроет дверь с первой попытки?\n"
   ]
  },
  {
   "cell_type": "markdown",
   "metadata": {},
   "source": [
    "Всего вариантов нажать 3 кнопки - это число сочетаний из 10 по 3 и только 1 из них правильное. Вероятность равна числу обратному числу сочетаний из 10 по 3."
   ]
  },
  {
   "cell_type": "markdown",
   "metadata": {},
   "source": [
    "$$ w = \\frac{1}{C^3_{10}}$$"
   ]
  },
  {
   "cell_type": "code",
   "execution_count": 10,
   "metadata": {},
   "outputs": [
    {
     "name": "stdout",
     "output_type": "stream",
     "text": [
      "Ответ: w = 0.008333333333333333\n"
     ]
    }
   ],
   "source": [
    "print(f\"Ответ: w = {1 / combinations(10, 3)}\")"
   ]
  },
  {
   "cell_type": "markdown",
   "metadata": {},
   "source": [
    "### 3. В ящике имеется 15 деталей, из которых 9 окрашены. Рабочий случайным образом извлекает 3 детали. Какова вероятность того, что все извлеченные детали окрашены?"
   ]
  },
  {
   "cell_type": "markdown",
   "metadata": {},
   "source": [
    "Вытащить 3 детали из 9 окрашенных можно $$C^3_{9}$$ способами. Всего способов вытащить 3 детали из 15 $$C^3_{15}$$ Отношение этих величин даст искомую вероятность.\n",
    "$$ w = \\frac{C^3_{9}}{C^3_{15}} = \\frac{9!}{3! \\cdot (9-3)!} \\cdot \\frac{3! \\cdot (15-3)!}{15!} = \\frac{9! \\cdot 12!}{15! \\cdot 6!} $$"
   ]
  },
  {
   "cell_type": "markdown",
   "metadata": {},
   "source": [
    "$$ w = \\frac{7 \\cdot 8 \\cdot 9}{13 \\cdot 14 \\cdot 15} $$"
   ]
  },
  {
   "cell_type": "code",
   "execution_count": 4,
   "metadata": {},
   "outputs": [
    {
     "data": {
      "text/plain": [
       "0.18461538461538463"
      ]
     },
     "execution_count": 4,
     "metadata": {},
     "output_type": "execute_result"
    }
   ],
   "source": [
    "7*8*9/(13*14*15)"
   ]
  },
  {
   "cell_type": "markdown",
   "metadata": {},
   "source": [
    "Ответ: 0.18461538461538463"
   ]
  },
  {
   "cell_type": "markdown",
   "metadata": {},
   "source": [
    "### В лотерее 100 билетов. Из них 2 выигрышных. Какова вероятность того, что 2 приобретенных билета окажутся выигрышными?"
   ]
  },
  {
   "cell_type": "markdown",
   "metadata": {},
   "source": [
    "Покупка каждого билета - независимое событие. Вероятность купить первый выигрышный билет 2/100. Вероятность купить второй выигрышный билет - 1/99 (один билет уже куплен)\n",
    "Общая вероятность получить эти 2 билета - 2/100 * 1/99 = 1/4950"
   ]
  },
  {
   "cell_type": "code",
   "execution_count": 5,
   "metadata": {},
   "outputs": [
    {
     "data": {
      "text/plain": [
       "0.00020202020202020202"
      ]
     },
     "execution_count": 5,
     "metadata": {},
     "output_type": "execute_result"
    }
   ],
   "source": [
    "2/100 * 1/99 "
   ]
  },
  {
   "cell_type": "markdown",
   "metadata": {},
   "source": [
    "Ответ: 0.00020202020202020202"
   ]
  },
  {
   "cell_type": "code",
   "execution_count": null,
   "metadata": {},
   "outputs": [],
   "source": []
  }
 ],
 "metadata": {
  "kernelspec": {
   "display_name": "Python 3",
   "language": "python",
   "name": "python3"
  },
  "language_info": {
   "codemirror_mode": {
    "name": "ipython",
    "version": 3
   },
   "file_extension": ".py",
   "mimetype": "text/x-python",
   "name": "python",
   "nbconvert_exporter": "python",
   "pygments_lexer": "ipython3",
   "version": "3.7.1"
  }
 },
 "nbformat": 4,
 "nbformat_minor": 2
}
