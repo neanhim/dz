{
 "cells": [
  {
   "cell_type": "code",
   "execution_count": 33,
   "metadata": {},
   "outputs": [],
   "source": [
    "import numpy as np"
   ]
  },
  {
   "cell_type": "markdown",
   "metadata": {},
   "source": [
    "# Часть 1\n",
    "По максимуму буду использовать numpy, так как на бумаге писать огромное количество матриц с вычислениями невероятно трудозатратно.\n",
    "## Задание 1.\n",
    "### а) A(4,2), B(4,2)\n",
    "AxB = (4,2)x(4,2) -> не определено, т.к. число столбцов в А не совпадает с числом строк в В.\n",
    "BxA = (4,2)x(4,2) -> не определено, т.к. число столбцов в B не совпадает с числом строк в A.\n",
    "### б) A(2,5), B(5,3)\n",
    "AxB = (2,5)x(5,3) = (2,3). AxB определено, размерность результата (2,3)\n",
    "BxA = (5,3)x(2,5) -> не определено, т.к. число столбцов в B не совпадает с числом строк в A.\n",
    "### в) A(8,3), B(3,8)\n",
    "AxB = (8,3)x(3,8) = (8,8). AxB определено, размерность результата (8,8)\n",
    "BxA = (3,8)x(8,3) = (3,3). BxA определено, размерность результата (3,3)\n",
    "### г) A(4,4), B(4,4)\n",
    "AxB = (4,4)x(4,4) = (4,4). AxB определено, размерность результата (4,4)\n",
    "BxA = (4,4)x(4,4) = (4,4). BxA определено, размерность результата (4,4)"
   ]
  },
  {
   "cell_type": "markdown",
   "metadata": {},
   "source": [
    "## Задание 2."
   ]
  },
  {
   "cell_type": "code",
   "execution_count": 8,
   "metadata": {},
   "outputs": [
    {
     "name": "stdout",
     "output_type": "stream",
     "text": [
      "Сумма матриц \n",
      " [[ 5 -3]\n",
      " [ 3  5]]\n",
      "Произведение матриц A*B\n",
      " [[  4 -11]\n",
      " [ 12  -3]]\n",
      "Произведение матриц B*A\n",
      " [[ 1 -8]\n",
      " [15  0]]\n"
     ]
    }
   ],
   "source": [
    "A = np.array([[1,-2],[3, 0]])\n",
    "B = np.array([[4,-1],[0, 5]])\n",
    "print(f'Сумма матриц \\n {A+B}')\n",
    "print(f'Произведение матриц A*B\\n {A.dot(B)}')\n",
    "print(f'Произведение матриц B*A\\n {B.dot(A)}')"
   ]
  },
  {
   "cell_type": "markdown",
   "metadata": {},
   "source": [
    "## Задание 3."
   ]
  },
  {
   "cell_type": "code",
   "execution_count": 11,
   "metadata": {},
   "outputs": [
    {
     "name": "stdout",
     "output_type": "stream",
     "text": [
      "3A-2B+4C = \n",
      " [[ 11  -5]\n",
      " [  9 -12]]\n"
     ]
    }
   ],
   "source": [
    "A = np.array([[1,7],[3,-6]])\n",
    "B = np.array([[0,5],[2,-1]])\n",
    "С = np.array([[2,-4],[1,1]])\n",
    "print(f'3A-2B+4C = \\n {3*A-2*B+4*С}')"
   ]
  },
  {
   "cell_type": "markdown",
   "metadata": {},
   "source": [
    "## Задание 4."
   ]
  },
  {
   "cell_type": "code",
   "execution_count": 15,
   "metadata": {},
   "outputs": [
    {
     "name": "stdout",
     "output_type": "stream",
     "text": [
      "A = \n",
      "[[ 4  1]\n",
      " [ 5 -2]\n",
      " [ 2  3]]\n",
      "\n",
      " A.T = \n",
      "[[ 4  5  2]\n",
      " [ 1 -2  3]]\n",
      "\n",
      "A*A.T = \n",
      "[[17 18 11]\n",
      " [18 29  4]\n",
      " [11  4 13]]\n",
      "\n",
      "A.T*A = \n",
      "[[45  0]\n",
      " [ 0 14]]\n"
     ]
    }
   ],
   "source": [
    "A = np.array([[4,1],[5,-2],[2,3]])\n",
    "print(f'A = \\n{A}\\n\\n A.T = \\n{A.T}\\n')\n",
    "print(f'A*A.T = \\n{A.dot(A.T)}\\n')\n",
    "print(f'A.T*A = \\n{A.T.dot(A)}')"
   ]
  },
  {
   "cell_type": "markdown",
   "metadata": {},
   "source": [
    "## Задание 5."
   ]
  },
  {
   "cell_type": "code",
   "execution_count": 1,
   "metadata": {},
   "outputs": [
    {
     "name": "stdout",
     "output_type": "stream",
     "text": [
      "[[4, 1], [5, -2], [2, 3]]\n"
     ]
    }
   ],
   "source": [
    "A = [[4,1],[5,-2],[2,3]]\n",
    "print(A)"
   ]
  },
  {
   "cell_type": "code",
   "execution_count": 22,
   "metadata": {},
   "outputs": [
    {
     "name": "stdout",
     "output_type": "stream",
     "text": [
      "[[1, 0, 0], [0, 0, 0], [0, 0, 0], [0, 0, 0]]\n"
     ]
    }
   ],
   "source": [
    "\n",
    "C = [[0] * 3 for _ in range(4)]\n",
    "C[0][0] = 1\n",
    "print(C)"
   ]
  },
  {
   "cell_type": "code",
   "execution_count": 31,
   "metadata": {},
   "outputs": [
    {
     "name": "stdout",
     "output_type": "stream",
     "text": [
      "[[4, -11], [12, -3]]\n",
      "Произведение не определено\n",
      "None\n"
     ]
    }
   ],
   "source": [
    "def product(A, B):\n",
    "    num_rows = len(A)\n",
    "    num_columns = len(A[0])\n",
    "    if num_columns != len(B):\n",
    "        print('Произведение не определено')\n",
    "        return\n",
    "    C = [[0] * num_columns for _ in range(num_rows)]\n",
    "    for i in range(num_rows):\n",
    "        for j in range(num_columns):\n",
    "            for k in range(num_columns):\n",
    "                C[i][j] += A[i][k] * B[k][j]\n",
    "    return C\n",
    "A = [[1,-2],[3, 0]]\n",
    "B = [[4,-1],[0, 5]]\n",
    "print(product(A, B))\n",
    "A = [[1,-2,1],[3, 0, 1]]\n",
    "print(product(A, B))"
   ]
  },
  {
   "cell_type": "markdown",
   "metadata": {},
   "source": [
    "# Часть 2"
   ]
  },
  {
   "cell_type": "markdown",
   "metadata": {},
   "source": [
    "## Задание 1\n",
    "а) sin(x) * sin(x) - (-cos(x)) * (cos(x)) = sin(x)^2+cos(x)^2 = 1\n",
    "б) Матрица треугольная. Определитель = 4*5*9 = 180\n",
    "в) Определитель = 1*(5*9-6*8) -2*(4*9-6*7)+3*(4*8-5*7)=1*(-3) -2*(-6)+3*(-3)=-3-9+12=0\n",
    "## Задание 2\n",
    "а) det(A^2)=det(A*A)=det(A)*det(A)=4*4=16\n",
    "б) det(A.T)=det(A)=4\n",
    "в) det(2A) невозможно посчитать, так как неизвестен размер матрицы А.\n",
    "## Задание 3\n",
    "Вторая строка матрицы равна первой строке, умноженной на -2. Так как у матрицы есть линейно зависимые строки, то её определитель равен 0 и, следовательно, она вырождена.\n",
    "## Задание 4\n",
    "а) Вычтем из третьей строки матрицы первую и вторую. Третья строка обнулится - отбросим ее. В оставшейся матрице можно найти минор второго порядка.\n",
    "Ответ: ранг = 2.\n",
    "б) Все миноры четвертого порядка равны 0, существует минор 3-го порядка (в правом нижнем углу) не равный 0.\n",
    "Ответ: ранг = 3."
   ]
  },
  {
   "cell_type": "code",
   "execution_count": 38,
   "metadata": {},
   "outputs": [
    {
     "name": "stdout",
     "output_type": "stream",
     "text": [
      "3\n"
     ]
    }
   ],
   "source": [
    "A = [[0,0,2,1],[0,0,2,2],[0,0,4,3],[2,3,5,6]]\n",
    "print(np.linalg.matrix_rank(A))"
   ]
  },
  {
   "cell_type": "code",
   "execution_count": null,
   "metadata": {},
   "outputs": [],
   "source": []
  }
 ],
 "metadata": {
  "kernelspec": {
   "display_name": "Python 3",
   "language": "python",
   "name": "python3"
  },
  "language_info": {
   "codemirror_mode": {
    "name": "ipython",
    "version": 3
   },
   "file_extension": ".py",
   "mimetype": "text/x-python",
   "name": "python",
   "nbconvert_exporter": "python",
   "pygments_lexer": "ipython3",
   "version": "3.7.1"
  }
 },
 "nbformat": 4,
 "nbformat_minor": 2
}
