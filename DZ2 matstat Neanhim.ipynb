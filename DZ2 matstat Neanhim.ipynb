{
 "cells": [
  {
   "cell_type": "code",
   "execution_count": 1,
   "metadata": {},
   "outputs": [],
   "source": [
    "from math import factorial\n",
    "\n",
    "def combinations(n, k):\n",
    "    return int(factorial(n) / (factorial(k) * factorial(n - k)))"
   ]
  },
  {
   "cell_type": "markdown",
   "metadata": {},
   "source": [
    "### Вероятность того, что стрелок попадет в мишень, выстрелив один раз, равна 0.8. Стрелок выстрелил 100 раз. Найдите вероятность того, что стрелок попадет в цель ровно 85 раз."
   ]
  },
  {
   "cell_type": "markdown",
   "metadata": {},
   "source": [
    "Используем биноминальное распределение\n",
    "$$P_n(X=k) = C_n^k p^k q^{n-k}$$\n"
   ]
  },
  {
   "cell_type": "markdown",
   "metadata": {},
   "source": [
    "k = 85\n",
    "n = 100\n",
    "p = 0.8\n",
    "q = 0.2"
   ]
  },
  {
   "cell_type": "markdown",
   "metadata": {},
   "source": [
    "$$P_{100}(X=85) = C_{100}^{85} 0.8^{85} 0.2^{100-85}$$\n"
   ]
  },
  {
   "cell_type": "code",
   "execution_count": 2,
   "metadata": {},
   "outputs": [
    {
     "name": "stdout",
     "output_type": "stream",
     "text": [
      "Ответ: p = 0.048061793700746556\n"
     ]
    }
   ],
   "source": [
    "print(f\"Ответ: p = {combinations(100, 85) * 0.8 ** 85 * 0.2 ** 15}\")"
   ]
  },
  {
   "cell_type": "markdown",
   "metadata": {},
   "source": [
    "### Вероятность того, что лампочка перегорит в течение первого дня эксплуатации, равна 0.0004. В жилом комплексе после ремонта в один день включили 5000 новых лампочек. Какова вероятность, что ни одна из них не перегорит в первый день? Какова вероятность, что перегорят ровно две?"
   ]
  },
  {
   "cell_type": "markdown",
   "metadata": {},
   "source": [
    "Вероятность того, что лампочка не перегорит равна 1 - 0,0004 = 0,9996\n",
    "Перегорание каждой лампочки - независимое событие, поэтому вероятности надо перемножить для каждой лампочки"
   ]
  },
  {
   "cell_type": "code",
   "execution_count": 7,
   "metadata": {},
   "outputs": [
    {
     "name": "stdout",
     "output_type": "stream",
     "text": [
      "Вероятность неперегорания лампочек : p = 0.1353\n"
     ]
    }
   ],
   "source": [
    "print(f\"Вероятность неперегорания лампочек : p = {(0.9996 ** 5000):.4f}\")"
   ]
  },
  {
   "cell_type": "markdown",
   "metadata": {},
   "source": [
    "Число испытаний довольно велико, поэтому используем распределение Пуассона\n",
    "p = 0.0004\n",
    "n = 5000\n",
    "m = 2"
   ]
  },
  {
   "cell_type": "code",
   "execution_count": 9,
   "metadata": {},
   "outputs": [
    {
     "name": "stdout",
     "output_type": "stream",
     "text": [
      "Вероятность перегорания двух лампочек : p = 0.2706705664732254\n"
     ]
    }
   ],
   "source": [
    "import numpy as np\n",
    "\n",
    "def poisson(n, m, p):\n",
    "    lm = n * p\n",
    "    return (lm ** m) / np.math.factorial(m) * np.exp(-lm)\n",
    "\n",
    "print(f\"Вероятность перегорания двух лампочек : p = {poisson(5000, 2, 0.0004)}\")"
   ]
  },
  {
   "cell_type": "markdown",
   "metadata": {},
   "source": [
    "### Монету подбросили 144 раза. Какова вероятность, что орел выпадет ровно 70 раз?"
   ]
  },
  {
   "cell_type": "markdown",
   "metadata": {},
   "source": [
    "Используем биноминальное распределение\n",
    "k = 70\n",
    "n = 144\n",
    "p = 0.5\n",
    "q = 0.5"
   ]
  },
  {
   "cell_type": "code",
   "execution_count": 15,
   "metadata": {},
   "outputs": [
    {
     "name": "stdout",
     "output_type": "stream",
     "text": [
      "Ответ: p = 0.06281178035144776\n"
     ]
    }
   ],
   "source": [
    "print(f\"Ответ: p = {combinations(144, 70) * 0.5 ** 70 * 0.5 ** 74}\")"
   ]
  },
  {
   "cell_type": "markdown",
   "metadata": {},
   "source": [
    "### В первом ящике находится 10 мячей, из которых 7 - белые. Во втором ящике - 11 мячей, из которых 9 белых. Из каждого ящика вытаскивают случайным образом по два мяча. Какова вероятность того, что все мячи белые? Какова вероятность того, что ровно два мяча белые? Какова вероятность того, что хотя бы один мяч белый?"
   ]
  },
  {
   "cell_type": "markdown",
   "metadata": {},
   "source": [
    "Вытаскивание мячей из ящика - независимые события.\n"
   ]
  },
  {
   "cell_type": "code",
   "execution_count": 20,
   "metadata": {},
   "outputs": [
    {
     "name": "stdout",
     "output_type": "stream",
     "text": [
      "Вероятность, что все мячи - белые:  p =  0.305\n"
     ]
    }
   ],
   "source": [
    "print(f\"Вероятность, что все мячи - белые:  p = {7/10 * 6/9 * 9/11 * 8/10 : .3f}\")"
   ]
  },
  {
   "cell_type": "markdown",
   "metadata": {},
   "source": [
    "Всего способов достать 4 мяча из 2 ящиков\n",
    "$$C^2_{10} \\cdot C^2_{11}$$\n",
    "Если 2 мяча были белые - то их либо достали из первого ящика, либо из второго, либо один из первого, а один - из второго.\n",
    "Способов достать 2 белых из первого ящика и не достать из второго: $$C^2_{7} \\cdot C^2_{2}$$\n",
    "Достать из второго и не достать из первого: $$C^2_{9} \\cdot C^2_{3}$$\n",
    "По одному из каждого: $$C^1_{9} \\cdot C^1_{7}$$\n",
    "Суммарная вероятность:\n",
    "$$\\frac{C^1_{9} \\cdot C^1_{7} + C^2_{7} \\cdot C^2_{2} + C^2_{9} \\cdot C^2_{3}}{C^2_{10} \\cdot C^2_{11}}$$"
   ]
  },
  {
   "cell_type": "code",
   "execution_count": 23,
   "metadata": {},
   "outputs": [
    {
     "name": "stdout",
     "output_type": "stream",
     "text": [
      "Вероятность, что два мяча - белые:  p =  0.078\n"
     ]
    }
   ],
   "source": [
    "print(f\"Вероятность, что два мяча - белые:  p = {(combinations(9, 1)*combinations(7, 1)+combinations(7, 2)*combinations(2, 2)+combinations(9, 2)*combinations(3, 2))/(combinations(10, 2)*combinations(11, 2)) : .3f}\")"
   ]
  },
  {
   "cell_type": "markdown",
   "metadata": {},
   "source": [
    "Всего способов достать 4 мяча из 2 ящиков\n",
    "$$C^2_{10} \\cdot C^2_{11}$$\n",
    "Способов не достать белый мяч из ящиков: $$C^2_{3} \\cdot C^2_{2} $$\n",
    "Суммарная вероятность достать хотя бы 1 белый мяч:\n",
    "$$1 - \\frac{C^2_{3} \\cdot C^2_{2}}{C^2_{10} \\cdot C^2_{11}}$$"
   ]
  },
  {
   "cell_type": "code",
   "execution_count": 26,
   "metadata": {},
   "outputs": [
    {
     "name": "stdout",
     "output_type": "stream",
     "text": [
      "Вероятность, что хотя бы 1 мяч белый:  p =  0.99879\n"
     ]
    }
   ],
   "source": [
    "print(f\"Вероятность, что хотя бы 1 мяч белый:  p = {1 - combinations(3, 2)*combinations(2, 2)/(combinations(10, 2)*combinations(11, 2)) : .5f}\")"
   ]
  },
  {
   "cell_type": "code",
   "execution_count": null,
   "metadata": {},
   "outputs": [],
   "source": []
  }
 ],
 "metadata": {
  "kernelspec": {
   "display_name": "Python 3",
   "language": "python",
   "name": "python3"
  },
  "language_info": {
   "codemirror_mode": {
    "name": "ipython",
    "version": 3
   },
   "file_extension": ".py",
   "mimetype": "text/x-python",
   "name": "python",
   "nbconvert_exporter": "python",
   "pygments_lexer": "ipython3",
   "version": "3.7.1"
  }
 },
 "nbformat": 4,
 "nbformat_minor": 2
}
