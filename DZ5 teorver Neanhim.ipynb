{
 "cells": [
  {
   "cell_type": "markdown",
   "metadata": {},
   "source": []
  },
  {
   "cell_type": "code",
   "execution_count": 5,
   "metadata": {},
   "outputs": [],
   "source": [
    "import numpy as np\n",
    "import scipy as sp\n",
    "import scipy.stats"
   ]
  },
  {
   "cell_type": "markdown",
   "metadata": {},
   "source": [
    "### Известно, что генеральная совокупность распределена нормально со средним квадратическим отклонением, равным 16. Найти доверительный интервал для оценки математического ожидания a с надежностью 0.95, если выборочная средняя M = 80, а объем выборки n = 256."
   ]
  },
  {
   "cell_type": "markdown",
   "metadata": {},
   "source": [
    "$$T_{1,2} = \\overline{X} \\pm \\frac{s_0}{\\sqrt{n}} \\cdot c_{\\gamma}$$\n",
    "Функцию обратного нормального распределения возьму из справочника"
   ]
  },
  {
   "cell_type": "code",
   "execution_count": 12,
   "metadata": {},
   "outputs": [
    {
     "name": "stdout",
     "output_type": "stream",
     "text": [
      "Доверительный интервал:  78.031 <= x <= 81.969\n"
     ]
    }
   ],
   "source": [
    "n = 256\n",
    "y = 0.95\n",
    "c_y = scipy.stats.t.ppf((1+y)/2, n-1)\n",
    "print(f\"Доверительный интервал:  {np.around((80 - 16 / np.sqrt(n) * c_y), decimals = 3)} <= x <= {np.around((80 + 16 / np.sqrt(n) * c_y), decimals = 3)}\")"
   ]
  },
  {
   "cell_type": "markdown",
   "metadata": {},
   "source": [
    "### В результате 10 независимых измерений некоторой величины X, выполненных с одинаковой точностью, получены опытные данные:6.9, 6.1, 6.2, 6.8, 7.5, 6.3, 6.4, 6.9, 6.7, 6.1Предполагая, что результаты измерений подчинены нормальному закону распределения вероятностей,оценить истинное значение величины X при помощи доверительного интервала, покрывающего это значение с доверительной вероятностью 0,95."
   ]
  },
  {
   "cell_type": "code",
   "execution_count": 13,
   "metadata": {},
   "outputs": [
    {
     "name": "stdout",
     "output_type": "stream",
     "text": [
      "Доверительный интервал:  6.284 <= x <= 6.896\n"
     ]
    }
   ],
   "source": [
    "X = np.array([6.9, 6.1, 6.2, 6.8, 7.5, 6.3, 6.4, 6.9, 6.7, 6.1])\n",
    "X_av = X.sum()/len(X)\n",
    "X_std = np.std(X)\n",
    "y = 0.95\n",
    "c_y = scipy.stats.t.ppf((1+y)/2, len(X)-1)\n",
    "print(f\"Доверительный интервал:  {np.around((X_av - X_std / np.sqrt(len(X)) * c_y), decimals = 3)} <= x <= {np.around((X_av + X_std / np.sqrt(len(X)) * c_y), decimals = 3)}\")"
   ]
  },
  {
   "cell_type": "markdown",
   "metadata": {},
   "source": [
    "### Утверждается, что шарики для подшипников, изготовленные автоматическим станком, имеют средний диаметр 17 мм. Используя односторонний критерий с α=0,05, проверить эту гипотезу, если в выборке из n=100 шариков средний диаметр оказался равным 17.5 мм, а дисперсия известна и равна 4 мм."
   ]
  },
  {
   "cell_type": "markdown",
   "metadata": {},
   "source": [
    " Основная гипотеза - средний диаметр шариков равен 17 мм. Альтернативная гипотеза - средний диаметр шариков более 17 мм. α=0,05"
   ]
  },
  {
   "cell_type": "code",
   "execution_count": 16,
   "metadata": {},
   "outputs": [
    {
     "name": "stdout",
     "output_type": "stream",
     "text": [
      "Доверительный интервал:  16.245 <= x <= 18.755\n"
     ]
    }
   ],
   "source": [
    "n = 100\n",
    "X_av = 17.5\n",
    "X_std = 2\n",
    "y = 0.95\n",
    "c_y = scipy.stats.t.ppf((1+y)/2, n-1)\n",
    "print(f\"Доверительный интервал:  {np.around((X_av - X_std / np.sqrt(len(X)) * c_y), decimals = 3)} <= x <= {np.around((X_av + X_std / np.sqrt(len(X)) * c_y), decimals = 3)}\")"
   ]
  },
  {
   "cell_type": "markdown",
   "metadata": {},
   "source": [
    "Утверждаемое среднее значение находится в доверительном интервале, поэтому отвергать основную гипотезу не нужно."
   ]
  },
  {
   "cell_type": "markdown",
   "metadata": {},
   "source": [
    "### Продавец утверждает, что средний вес пачки печенья составляет 200 г. Из партии извлечена выборка из 10 пачек. Вес каждой пачки составляет: 202, 203, 199, 197, 195, 201, 200, 204, 194, 190. Известно, что их веса распределены нормально. Верно ли утверждение продавца, если учитывать, что доверительная вероятность равна 99%?"
   ]
  },
  {
   "cell_type": "markdown",
   "metadata": {},
   "source": [
    "Основная гипотеза - средний вес пачки равен 200 г."
   ]
  },
  {
   "cell_type": "code",
   "execution_count": 14,
   "metadata": {},
   "outputs": [
    {
     "name": "stdout",
     "output_type": "stream",
     "text": [
      "Доверительный интервал:  194.158 <= x <= 202.842\n"
     ]
    }
   ],
   "source": [
    "X = np.array([202, 203, 199, 197, 195, 201, 200, 204, 194, 190])\n",
    "X_av = X.sum()/len(X)\n",
    "X_std = np.std(X)\n",
    "y = 0.99\n",
    "c_y = scipy.stats.t.ppf((1+y)/2, len(X)-1)\n",
    "print(f\"Доверительный интервал:  {np.around((X_av - X_std / np.sqrt(len(X)) * c_y), decimals = 3)} <= x <= {np.around((X_av + X_std / np.sqrt(len(X)) * c_y), decimals = 3)}\")"
   ]
  },
  {
   "cell_type": "markdown",
   "metadata": {},
   "source": [
    "Утверждаемое среднее значение находится в доверительном интервале, поэтому отвергать основную гипотезу не нужно.\n",
    "Утверждение верно."
   ]
  },
  {
   "cell_type": "code",
   "execution_count": null,
   "metadata": {},
   "outputs": [],
   "source": []
  }
 ],
 "metadata": {
  "kernelspec": {
   "display_name": "Python 3",
   "language": "python",
   "name": "python3"
  },
  "language_info": {
   "codemirror_mode": {
    "name": "ipython",
    "version": 3
   },
   "file_extension": ".py",
   "mimetype": "text/x-python",
   "name": "python",
   "nbconvert_exporter": "python",
   "pygments_lexer": "ipython3",
   "version": "3.7.1"
  }
 },
 "nbformat": 4,
 "nbformat_minor": 2
}
